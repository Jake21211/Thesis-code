{
 "cells": [
  {
   "cell_type": "code",
   "execution_count": 1,
   "metadata": {},
   "outputs": [],
   "source": [
    "from Bio import SeqIO\n",
    "from Bio.Blast import NCBIWWW, NCBIXML\n",
    "from Bio.Seq import Seq\n",
    "from Bio.SeqRecord import SeqRecord\n",
    "from bioservices import UniProt"
   ]
  },
  {
   "cell_type": "code",
   "execution_count": 2,
   "metadata": {},
   "outputs": [],
   "source": [
    "service = UniProt()\n",
    "#constructing query\n",
    "query = \"cluster:(uniprot:Q6CZT4 identity:0.9)\"\n",
    "# Querying the database\n",
    "result1= service.search(query, frmt=\"fasta\")\n",
    "result2= service.search(query,database=\"uniparc\",frmt=\"fasta\")\n",
    "peclyase3uniprot = result1 + result2\n",
    "#Saving to file\n",
    "savefile = open(\"peclyase3uniprot.txt\",\"w\")\n",
    "savefile.write(peclyase3uniprot)\n",
    "savefile.close()"
   ]
  },
  {
   "cell_type": "code",
   "execution_count": 3,
   "metadata": {},
   "outputs": [],
   "source": [
    "seqdata = \"\".join([\"MKYLLPSTAAGLLLLAAQPTMAANTGGYATTDGGNVAGAVNKTARSMQDIIDIIEEAKLD\",\n",
    "\"SKGKKVKGGAYPLIITYNGNEDALIKAAENNICGQWSKDARGVEIKEFTKGVTIIGTNGS\",\n",
    "\"SANFGIWLTKSSDVIIRNMRFGYMPGGAQDGDAIRIDNTPNVWIDHNEIFAKNFECQGTK\",\n",
    "\"DGDTTFESAIDIKKASTNVTVSYNYIHGIKKVGLSGFSSSDTGRDLTYHHNIYDDVNARL\",\n",
    "\"PLQRGGQVHAYNNLYTGITSSGLNVRQKGIALIERNWFENAKNPVTSRYDGSNFGTWELR\",\n",
    "\"NNNIMSPADFAKYNITWDKDTKAYVNAEDWKSTGTFASVPYSYSPVSPQCVKDKLANYAG\"\n",
    "\"VNKNLAVLTAANCN\"])\n",
    "refseq = SeqRecord(seq=Seq(seqdata),\n",
    "id=\"sp|Q6CZT2|PLY3_PECAS\",\n",
    "description=\"Pectate lyase 3 OS=Pectobacterium atrosepticum (strain SCRI 1043 / ATCC BAA-672) OX=218491 GN=pel3 PE=3 SV=1\")"
   ]
  },
  {
   "cell_type": "code",
   "execution_count": 4,
   "metadata": {},
   "outputs": [],
   "source": [
    "blastresult = NCBIWWW.qblast(\"blastp\", \"nr\", refseq.format(\"fasta\"), entrez_query=\"pectobacterium[ORGN]\")"
   ]
  },
  {
   "cell_type": "code",
   "execution_count": 5,
   "metadata": {},
   "outputs": [],
   "source": [
    "result= NCBIXML.read(blastresult)"
   ]
  },
  {
   "cell_type": "code",
   "execution_count": 6,
   "metadata": {},
   "outputs": [],
   "source": [
    "blastaccessions = []\n",
    "for alignment in result.alignments:\n",
    "    for hsp in alignment.hsps:\n",
    "        if hsp.align_length / result.query_length == 1 and hsp.identities/ hsp.align_length >= 0.90:\n",
    "            blastaccessions.append(alignment.accession)"
   ]
  },
  {
   "cell_type": "code",
   "execution_count": 7,
   "metadata": {},
   "outputs": [],
   "source": [
    "from Bio import Entrez\n",
    "Entrez.email = \"jakesgames212@hotmail.co.uk\"\n",
    "with open(\"peclyase3blast.fasta\",\"w\") as outfh:\n",
    "    for accessions in blastaccessions:\n",
    "        output = Entrez.efetch(db= \"protein\",id=accessions, rettype=\"fasta\", retmode=\"text\").read()\n",
    "        outfh.write(output)"
   ]
  },
  {
   "cell_type": "code",
   "execution_count": 8,
   "metadata": {},
   "outputs": [],
   "source": [
    "#parsing the uniprotKB sequences with SeqIO\n",
    "uniprot_seqs = [_ for _ in SeqIO.parse(\"peclyase3uniprot.txt\", \"fasta\")]\n",
    "#isolating the sequence ids\n",
    "uniprot_ids = [_.id for _ in uniprot_seqs]\n",
    "\n",
    "#parsing the Blastp sequences with SeqIO\n",
    "blast_seqs = [_ for _ in SeqIO.parse(\"peclyase3blast.fasta\", \"fasta\")]\n",
    "#isolating the sequence ids\n",
    "blast_ids = [_.id for _ in blast_seqs]"
   ]
  },
  {
   "cell_type": "code",
   "execution_count": 9,
   "metadata": {},
   "outputs": [],
   "source": [
    "#For each blast sequence, search uniprot using the crossreference refseq\n",
    "# Convert this to tabular format and isolate only the sequences\n",
    "# For each blast sequence searched, if there was no uniprot result...print the blast sequence\n",
    "new_blast_seqs = []\n",
    "for seq in blast_seqs:\n",
    "    result = service.search(\"database:(type:refseq %s)\" % seq.id, frmt=\"tab\", columns=\"id\").split(\"\\n\")[1:-1]\n",
    "    if len(result) == 0:\n",
    "        new_blast_seqs.append(seq)"
   ]
  },
  {
   "cell_type": "code",
   "execution_count": null,
   "metadata": {},
   "outputs": [],
   "source": [
    "seq_combined = uniprot_seqs + new_blast_seqs\n",
    "SeqIO.write(seq_combined, \"combined.fasta\", \"fasta\")"
   ]
  }
 ],
 "metadata": {
  "kernelspec": {
   "display_name": "Python 3",
   "language": "python",
   "name": "python3"
  },
  "language_info": {
   "codemirror_mode": {
    "name": "ipython",
    "version": 3
   },
   "file_extension": ".py",
   "mimetype": "text/x-python",
   "name": "python",
   "nbconvert_exporter": "python",
   "pygments_lexer": "ipython3",
   "version": "3.7.6"
  }
 },
 "nbformat": 4,
 "nbformat_minor": 4
}
