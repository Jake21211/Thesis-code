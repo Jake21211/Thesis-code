{
 "cells": [
  {
   "cell_type": "code",
   "execution_count": 1,
   "metadata": {},
   "outputs": [],
   "source": [
    "from Bio import SeqIO\n",
    "from Bio.Blast import NCBIWWW, NCBIXML\n",
    "from Bio.Seq import Seq\n",
    "from Bio.SeqRecord import SeqRecord\n",
    "from bioservices import UniProt"
   ]
  },
  {
   "cell_type": "code",
   "execution_count": 2,
   "metadata": {},
   "outputs": [],
   "source": [
    "service = UniProt()\n",
    "#constructing query\n",
    "query = \"cluster:(uniprot:Q6CZT4 identity:0.9)\"\n",
    "# Querying the database\n",
    "result1= service.search(query, frmt=\"fasta\")\n",
    "result2= service.search(query,database=\"uniparc\",frmt=\"fasta\")\n",
    "peclyase3uniprot = result1 + result2\n",
    "#Saving to file\n",
    "savefile = open(\"peclyase3uniprot.txt\",\"w\")\n",
    "savefile.write(peclyase3uniprot)\n",
    "savefile.close()"
   ]
  },
  {
   "cell_type": "code",
   "execution_count": 3,
   "metadata": {},
   "outputs": [],
   "source": [
    "seqdata = \"\".join([\"MKYLLPSTAAGLLLLAAQPTMAANTGGYATTDGGNVAGAVNKTARSMQDIIDIIEEAKLD\",\n",
    "\"SKGKKVKGGAYPLIITYNGNEDALIKAAENNICGQWSKDARGVEIKEFTKGVTIIGTNGS\",\n",
    "\"SANFGIWLTKSSDVIIRNMRFGYMPGGAQDGDAIRIDNTPNVWIDHNEIFAKNFECQGTK\",\n",
    "\"DGDTTFESAIDIKKASTNVTVSYNYIHGIKKVGLSGFSSSDTGRDLTYHHNIYDDVNARL\",\n",
    "\"PLQRGGQVHAYNNLYTGITSSGLNVRQKGIALIERNWFENAKNPVTSRYDGSNFGTWELR\",\n",
    "\"NNNIMSPADFAKYNITWDKDTKAYVNAEDWKSTGTFASVPYSYSPVSPQCVKDKLANYAG\"\n",
    "\"VNKNLAVLTAANCN\"])\n",
    "refseq = SeqRecord(seq=Seq(seqdata),\n",
    "id=\"sp|Q6CZT2|PLY3_PECAS\",\n",
    "description=\"Pectate lyase 3 OS=Pectobacterium atrosepticum (strain SCRI 1043 / ATCC BAA-672) OX=218491 GN=pel3 PE=3 SV=1\")"
   ]
  },
  {
   "cell_type": "code",
   "execution_count": 4,
   "metadata": {},
   "outputs": [],
   "source": [
    "blastresult = NCBIWWW.qblast(\"blastp\", \"nr\", refseq.format(\"fasta\"), entrez_query=\"pectobacterium[ORGN]\")"
   ]
  },
  {
   "cell_type": "code",
   "execution_count": 5,
   "metadata": {},
   "outputs": [],
   "source": [
    "result= NCBIXML.read(blastresult)"
   ]
  },
  {
   "cell_type": "code",
   "execution_count": 6,
   "metadata": {
    "collapsed": true
   },
   "outputs": [
    {
     "name": "stdout",
     "output_type": "stream",
     "text": [
      "['WP_011095543', 'WP_048262716', 'WP_129708440', 'WP_039324738', 'WP_039304762', 'WP_107168870', 'WP_137742183', 'WP_014701648', 'WP_039529856', 'WP_010297068', 'WP_039498079', 'WP_039516338', 'WP_014916842', 'WP_095700775', 'WP_094370557', 'WP_095993019', 'WP_119873299', 'WP_039503864', 'WP_180781084', 'WP_103862631', 'WP_040032980', 'WP_039492146', 'WP_044205489', 'WP_039277268', 'WP_039362804', 'WP_039484584', 'WP_040033289', 'WP_110163332', 'WP_039557351', 'WP_102116850', 'WP_174870902', 'AAB82289', 'WP_010277583', 'MBA5602669', 'MBA5201940', 'WP_180779231', 'WP_180743239', 'WP_015841959', 'CAA57441', 'WP_119889190', 'WP_109412366', 'WP_138254708', 'WP_127157730', 'WP_005969502', 'WP_039353884']\n"
     ]
    }
   ],
   "source": [
    "blastaccessions = []\n",
    "for alignment in result.alignments:\n",
    "    for hsp in alignment.hsps:\n",
    "        if hsp.align_length / result.query_length == 1 and hsp.identities/ hsp.align_length >= 0.90:\n",
    "            blastaccessions.append(alignment.accession)\n",
    "print(blastaccessions)"
   ]
  },
  {
   "cell_type": "code",
   "execution_count": 8,
   "metadata": {},
   "outputs": [],
   "source": [
    "from Bio import Entrez\n",
    "Entrez.email = \"jakesgames212@hotmail.co.uk\"\n",
    "with open(\"peclyase3blast.fasta\",\"w\") as outfh:\n",
    "    for accessions in blastaccessions:\n",
    "        output = Entrez.efetch(db= \"protein\",id=accessions, rettype=\"fasta\", retmode=\"text\").read()\n",
    "        outfh.write(output)"
   ]
  },
  {
   "cell_type": "code",
   "execution_count": 9,
   "metadata": {},
   "outputs": [],
   "source": [
    "#parsing the uniprotKB sequences with SeqIO\n",
    "uniprot_seqs = [_ for _ in SeqIO.parse(\"peclyase3uniprot.txt\", \"fasta\")]\n",
    "#isolating the sequence ids\n",
    "uniprot_ids = [_.id for _ in uniprot_seqs]\n",
    "\n",
    "#parsing the Blastp sequences with SeqIO\n",
    "blast_seqs = [_ for _ in SeqIO.parse(\"peclyase3blast.fasta\", \"fasta\")]\n",
    "#isolating the sequence ids\n",
    "blast_ids = [_.id for _ in blast_seqs]"
   ]
  },
  {
   "cell_type": "code",
   "execution_count": 10,
   "metadata": {},
   "outputs": [],
   "source": [
    "#For each blast sequence, search uniprot using the crossreference refseq\n",
    "# Convert this to tabular format and isolate only the sequences\n",
    "# For each blast sequence searched, if there was no uniprot result...print the blast sequence\n",
    "new_blast_seqs = []\n",
    "for seq in blast_seqs:\n",
    "    result = service.search(\"database:(type:refseq %s)\" % seq.id, frmt=\"tab\", columns=\"id\").split(\"\\n\")[1:-1]\n",
    "    if len(result) == 0:\n",
    "        new_blast_seqs.append(seq)"
   ]
  },
  {
   "cell_type": "code",
   "execution_count": 11,
   "metadata": {
    "collapsed": true
   },
   "outputs": [
    {
     "data": {
      "text/plain": [
       "76"
      ]
     },
     "execution_count": 11,
     "metadata": {},
     "output_type": "execute_result"
    }
   ],
   "source": [
    "seq_combined = uniprot_seqs + new_blast_seqs\n",
    "\n",
    "len(seq_combined)\n",
    "\n",
    "SeqIO.write(seq_combined, \"combined.fasta\", \"fasta\")"
   ]
  }
 ],
 "metadata": {
  "kernelspec": {
   "display_name": "Python 3",
   "language": "python",
   "name": "python3"
  },
  "language_info": {
   "codemirror_mode": {
    "name": "ipython",
    "version": 3
   },
   "file_extension": ".py",
   "mimetype": "text/x-python",
   "name": "python",
   "nbconvert_exporter": "python",
   "pygments_lexer": "ipython3",
   "version": "3.7.6"
  }
 },
 "nbformat": 4,
 "nbformat_minor": 4
}
